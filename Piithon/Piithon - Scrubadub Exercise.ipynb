{
 "cells": [
  {
   "cell_type": "markdown",
   "metadata": {},
   "source": [
    "# Piithon - Scrubadub Exercise\n",
    "In this Monday Morning Python Exercise, users will be leverage the power of several python packages to anonymize and analyze 311 data. As a bonus, an interesting data profiling quirk is explored at the end."
   ]
  },
  {
   "cell_type": "markdown",
   "metadata": {},
   "source": [
    "## Scrubadub\n",
    "This exercise is BYOD -- bring your own data. This code assumes you have a file called \"piithon311data.csv\" in a temporary location. At a minimum, the following columns should be included:\n",
    " - Id\n",
    " - Title\n",
    " - Description\n",
    " - AssignedTo\n",
    " - CreatedBy\n",
    " - ReportedBy\n",
    " - Address\n",
    " - DaysOpen\n",
    "\n",
    "Due to the sensitive nature of this type of information, this exercise requires your provide your own 311 dataset and update the code to point to that temporary file here:"
   ]
  },
  {
   "cell_type": "code",
   "execution_count": null,
   "metadata": {},
   "outputs": [],
   "source": [
    "piithon311filefullpath = \"C:\\\\temp\\\\piithon311data.csv\""
   ]
  },
  {
   "cell_type": "markdown",
   "metadata": {},
   "source": [
    "Data Analysts frequently encounter sensitive data, and the ability to analyze and present anonymous details is a must. Therefore, an important library on any pythonista's toolbelt is [scrubadub](https://scrubadub.readthedocs.io/en/stable/). We'll use this library to anonymize our 311 data in a way that keeps analytic integrity in tact. Try out scrubadub's various methods on your data before proceeding to analysis."
   ]
  },
  {
   "cell_type": "code",
   "execution_count": null,
   "metadata": {},
   "outputs": [],
   "source": [
    "import scrubadub as scr\n",
    "\n",
    "# Also grab a few other useful packages\n",
    "import pandas as pd\n",
    "import seaborn as sns"
   ]
  },
  {
   "cell_type": "code",
   "execution_count": null,
   "metadata": {},
   "outputs": [],
   "source": [
    "rawdataframe = pd.read_csv(piithon311filefullpath)"
   ]
  },
  {
   "cell_type": "code",
   "execution_count": null,
   "metadata": {},
   "outputs": [],
   "source": [
    "rawdataframe.head()"
   ]
  },
  {
   "cell_type": "markdown",
   "metadata": {},
   "source": [
    "### Remove all names from the dataset"
   ]
  },
  {
   "cell_type": "code",
   "execution_count": null,
   "metadata": {},
   "outputs": [],
   "source": [
    "nameless_data = rawdataframe.transformed"
   ]
  },
  {
   "cell_type": "markdown",
   "metadata": {},
   "source": [
    "### Remove all email addresses from the data set"
   ]
  },
  {
   "cell_type": "code",
   "execution_count": null,
   "metadata": {},
   "outputs": [],
   "source": [
    "no_email_data = nameless_data.transformed"
   ]
  },
  {
   "cell_type": "markdown",
   "metadata": {},
   "source": [
    "### Remove all Phone Numbers from the dataset"
   ]
  },
  {
   "cell_type": "code",
   "execution_count": null,
   "metadata": {},
   "outputs": [],
   "source": [
    "no_phone_data = no_email_data.transformed"
   ]
  },
  {
   "cell_type": "markdown",
   "metadata": {},
   "source": [
    "### Remove all addresses from the dataset"
   ]
  },
  {
   "cell_type": "code",
   "execution_count": null,
   "metadata": {},
   "outputs": [],
   "source": [
    "no_address_data = no_phone_data.transformed"
   ]
  },
  {
   "cell_type": "markdown",
   "metadata": {},
   "source": [
    "Now that the data is anonymized, it can be reshaped for analysis"
   ]
  },
  {
   "cell_type": "code",
   "execution_count": null,
   "metadata": {},
   "outputs": [],
   "source": [
    "anonymized_data = no_address_data.set_index('Id')\n",
    "anonymized_data.head()"
   ]
  },
  {
   "cell_type": "markdown",
   "metadata": {},
   "source": [
    "## Data Profiling\n",
    "Now that we have anonymized data, we can launch into analysis! Let's perform some quick data profiling, including a linear regression of two features:"
   ]
  },
  {
   "cell_type": "code",
   "execution_count": null,
   "metadata": {},
   "outputs": [],
   "source": [
    "anonymized_data.describe()"
   ]
  },
  {
   "cell_type": "code",
   "execution_count": null,
   "metadata": {},
   "outputs": [],
   "source": [
    "anonymized_user_stats = anonymized_data.groupby(['AssignedTo', 'CreatedBy', 'DaysOpen']).size().reset_index().rename(columns={0: 'UserComboCount'})\n",
    "anonymized_user_stats.head()"
   ]
  },
  {
   "cell_type": "code",
   "execution_count": null,
   "metadata": {},
   "outputs": [],
   "source": [
    "sns.regplot(x=\"UserComboCount\", y=\"DaysOpen\", data=anonymized_user_stats)"
   ]
  },
  {
   "cell_type": "markdown",
   "metadata": {},
   "source": [
    "## Anscombe's Quartet\n",
    "One important thing to keep in mind when moving from Data Profiling into deeper analysis is that visualization is key. Take [Anscombe's Quartet](https://en.wikipedia.org/wiki/Anscombe%27s_quartet), for example--four data sets which look identical from a statistical description, but that have very different graphical features."
   ]
  },
  {
   "cell_type": "code",
   "execution_count": null,
   "metadata": {},
   "outputs": [],
   "source": [
    "anscombe = sns.load_dataset(\"anscombe\")"
   ]
  },
  {
   "cell_type": "code",
   "execution_count": null,
   "metadata": {},
   "outputs": [],
   "source": [
    "anscombe.groupby(\"dataset\").describe()"
   ]
  },
  {
   "cell_type": "code",
   "execution_count": null,
   "metadata": {},
   "outputs": [],
   "source": [
    "sns.lmplot(x=\"x\", y=\"y\", col=\"dataset\", hue=\"dataset\", data=anscombe,\n",
    "           col_wrap=2, ci=None, palette=\"muted\", height=4,\n",
    "           scatter_kws={\"s\": 50, \"alpha\": 1})"
   ]
  },
  {
   "cell_type": "markdown",
   "metadata": {},
   "source": [
    "## [DataSaurus](https://github.com/lockedata/datasauRus)"
   ]
  },
  {
   "cell_type": "code",
   "execution_count": null,
   "metadata": {},
   "outputs": [],
   "source": [
    "import emoji"
   ]
  },
  {
   "cell_type": "markdown",
   "metadata": {},
   "source": [
    "It's nice to end on a fun note 🐍"
   ]
  }
 ],
 "metadata": {
  "kernelspec": {
   "display_name": "Python 3",
   "language": "python",
   "name": "python3"
  },
  "language_info": {
   "codemirror_mode": {
    "name": "ipython",
    "version": 3
   },
   "file_extension": ".py",
   "mimetype": "text/x-python",
   "name": "python",
   "nbconvert_exporter": "python",
   "pygments_lexer": "ipython3",
   "version": "3.7.4"
  }
 },
 "nbformat": 4,
 "nbformat_minor": 2
}
