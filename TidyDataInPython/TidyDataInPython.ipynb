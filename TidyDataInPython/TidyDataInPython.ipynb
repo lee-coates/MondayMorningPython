{
 "cells": [
  {
   "cell_type": "markdown",
   "metadata": {},
   "source": [
    "# Tidy Data in Python\n",
    "This is a short quiz to help Data Analysts flex basic Exploratory Data Analysis skills."
   ]
  },
  {
   "cell_type": "markdown",
   "metadata": {},
   "source": [
    "## Libraries!\n",
    "Always get libraries first"
   ]
  },
  {
   "cell_type": "code",
   "execution_count": 13,
   "metadata": {},
   "outputs": [],
   "source": [
    "import requests\n",
    "import json\n",
    "import pandas as pd\n",
    "from pandas.io.json import json_normalize\n",
    "import matplotlib.pyplot as plt"
   ]
  },
  {
   "cell_type": "markdown",
   "metadata": {},
   "source": [
    "## Getting the Data\n",
    "For this exercise, we're going to call the NASA API. We can get 7 days of asteriod data at a time using the [DEMO_KEY](https://api.nasa.gov/index.html#getting-started):"
   ]
  },
  {
   "cell_type": "code",
   "execution_count": 2,
   "metadata": {},
   "outputs": [],
   "source": [
    "# make this call separately from everything as the DEMO_KEY is limited to 30 hits from an API every hour.\n",
    "response = requests.get(\"https://api.nasa.gov/neo/rest/v1/feed?start_date=2019-07-01&end_date=2019-07-07&api_key=DEMO_KEY\")"
   ]
  },
  {
   "cell_type": "code",
   "execution_count": 3,
   "metadata": {},
   "outputs": [
    {
     "name": "stdout",
     "output_type": "stream",
     "text": [
      "<class 'dict'>\n"
     ]
    }
   ],
   "source": [
    "if(response.status_code != 200):\n",
    "    print(\"Invalid URL; cannot get data\")\n",
    "else:\n",
    "    rawdata = response.json()\n",
    "    print(type(rawdata))"
   ]
  },
  {
   "cell_type": "markdown",
   "metadata": {},
   "source": [
    "## Now Tidy the Data!"
   ]
  },
  {
   "cell_type": "code",
   "execution_count": 4,
   "metadata": {},
   "outputs": [
    {
     "data": {
      "text/plain": [
       "dict"
      ]
     },
     "execution_count": 4,
     "metadata": {},
     "output_type": "execute_result"
    }
   ],
   "source": [
    "near_earth_objects = rawdata['near_earth_objects']\n",
    "type(near_earth_objects)"
   ]
  },
  {
   "cell_type": "code",
   "execution_count": 5,
   "metadata": {
    "scrolled": true
   },
   "outputs": [
    {
     "data": {
      "text/plain": [
       "list"
      ]
     },
     "execution_count": 5,
     "metadata": {},
     "output_type": "execute_result"
    }
   ],
   "source": [
    "July2Asteroids = near_earth_objects['2019-07-02']\n",
    "type(July2Asteroids)"
   ]
  },
  {
   "cell_type": "code",
   "execution_count": 6,
   "metadata": {},
   "outputs": [
    {
     "data": {
      "text/plain": [
       "dict"
      ]
     },
     "execution_count": 6,
     "metadata": {},
     "output_type": "execute_result"
    }
   ],
   "source": [
    "July2Asteroid1 = July2Asteroids[0]\n",
    "type(July2Asteroid1)"
   ]
  },
  {
   "cell_type": "code",
   "execution_count": 7,
   "metadata": {},
   "outputs": [],
   "source": [
    "July2Asteroid1_df = pd.DataFrame.from_dict(json_normalize(July2Asteroid1))"
   ]
  },
  {
   "cell_type": "code",
   "execution_count": 8,
   "metadata": {},
   "outputs": [
    {
     "name": "stdout",
     "output_type": "stream",
     "text": [
      "<class 'str'> <class 'list'>\n"
     ]
    }
   ],
   "source": [
    "for ast in near_earth_objects.items():\n",
    "    astDate = ast[0]\n",
    "    astData = ast[1]\n",
    "    print(type(astDate), type(astData))\n",
    "    break"
   ]
  },
  {
   "cell_type": "code",
   "execution_count": 9,
   "metadata": {},
   "outputs": [
    {
     "name": "stdout",
     "output_type": "stream",
     "text": [
      "2019-07-02 <class 'dict'>\n"
     ]
    }
   ],
   "source": [
    "for ast in near_earth_objects.items():\n",
    "    astDate = ast[0]\n",
    "    for event in ast[1]:\n",
    "        print(astDate, type(event))\n",
    "        break\n",
    "    break"
   ]
  },
  {
   "cell_type": "code",
   "execution_count": 10,
   "metadata": {},
   "outputs": [],
   "source": [
    "finaldf = pd.DataFrame()\n",
    "for ast in near_earth_objects.items():\n",
    "    astDate = ast[0]\n",
    "    for event in ast[1]:\n",
    "        tempdf = pd.DataFrame.from_dict(json_normalize(event)).assign(event_date=astDate)\n",
    "        finaldf = finaldf.append(tempdf)"
   ]
  },
  {
   "cell_type": "code",
   "execution_count": 11,
   "metadata": {},
   "outputs": [
    {
     "data": {
      "text/html": [
       "<div>\n",
       "<style scoped>\n",
       "    .dataframe tbody tr th:only-of-type {\n",
       "        vertical-align: middle;\n",
       "    }\n",
       "\n",
       "    .dataframe tbody tr th {\n",
       "        vertical-align: top;\n",
       "    }\n",
       "\n",
       "    .dataframe thead th {\n",
       "        text-align: right;\n",
       "    }\n",
       "</style>\n",
       "<table border=\"1\" class=\"dataframe\">\n",
       "  <thead>\n",
       "    <tr style=\"text-align: right;\">\n",
       "      <th></th>\n",
       "      <th>absolute_magnitude_h</th>\n",
       "      <th>close_approach_data</th>\n",
       "      <th>estimated_diameter.feet.estimated_diameter_max</th>\n",
       "      <th>estimated_diameter.feet.estimated_diameter_min</th>\n",
       "      <th>estimated_diameter.kilometers.estimated_diameter_max</th>\n",
       "      <th>estimated_diameter.kilometers.estimated_diameter_min</th>\n",
       "      <th>estimated_diameter.meters.estimated_diameter_max</th>\n",
       "      <th>estimated_diameter.meters.estimated_diameter_min</th>\n",
       "      <th>estimated_diameter.miles.estimated_diameter_max</th>\n",
       "      <th>estimated_diameter.miles.estimated_diameter_min</th>\n",
       "      <th>id</th>\n",
       "      <th>is_potentially_hazardous_asteroid</th>\n",
       "      <th>is_sentry_object</th>\n",
       "      <th>links.self</th>\n",
       "      <th>name</th>\n",
       "      <th>nasa_jpl_url</th>\n",
       "      <th>neo_reference_id</th>\n",
       "      <th>event_date</th>\n",
       "    </tr>\n",
       "  </thead>\n",
       "  <tbody>\n",
       "    <tr>\n",
       "      <th>0</th>\n",
       "      <td>26.513</td>\n",
       "      <td>[{'close_approach_date': '2019-07-02', 'close_...</td>\n",
       "      <td>97.146024</td>\n",
       "      <td>43.445023</td>\n",
       "      <td>0.029610</td>\n",
       "      <td>0.013242</td>\n",
       "      <td>29.610107</td>\n",
       "      <td>13.242042</td>\n",
       "      <td>0.018399</td>\n",
       "      <td>0.008228</td>\n",
       "      <td>3843141</td>\n",
       "      <td>False</td>\n",
       "      <td>False</td>\n",
       "      <td>http://www.neowsapp.com/rest/v1/neo/3843141?ap...</td>\n",
       "      <td>(2019 NW2)</td>\n",
       "      <td>http://ssd.jpl.nasa.gov/sbdb.cgi?sstr=3843141</td>\n",
       "      <td>3843141</td>\n",
       "      <td>2019-07-02</td>\n",
       "    </tr>\n",
       "    <tr>\n",
       "      <th>0</th>\n",
       "      <td>25.454</td>\n",
       "      <td>[{'close_approach_date': '2019-07-02', 'close_...</td>\n",
       "      <td>158.206758</td>\n",
       "      <td>70.752213</td>\n",
       "      <td>0.048221</td>\n",
       "      <td>0.021565</td>\n",
       "      <td>48.221418</td>\n",
       "      <td>21.565274</td>\n",
       "      <td>0.029963</td>\n",
       "      <td>0.013400</td>\n",
       "      <td>3843052</td>\n",
       "      <td>False</td>\n",
       "      <td>False</td>\n",
       "      <td>http://www.neowsapp.com/rest/v1/neo/3843052?ap...</td>\n",
       "      <td>(2019 MJ2)</td>\n",
       "      <td>http://ssd.jpl.nasa.gov/sbdb.cgi?sstr=3843052</td>\n",
       "      <td>3843052</td>\n",
       "      <td>2019-07-02</td>\n",
       "    </tr>\n",
       "    <tr>\n",
       "      <th>0</th>\n",
       "      <td>21.558</td>\n",
       "      <td>[{'close_approach_date': '2019-07-02', 'close_...</td>\n",
       "      <td>951.535575</td>\n",
       "      <td>425.539646</td>\n",
       "      <td>0.290028</td>\n",
       "      <td>0.129704</td>\n",
       "      <td>290.028034</td>\n",
       "      <td>129.704480</td>\n",
       "      <td>0.180215</td>\n",
       "      <td>0.080595</td>\n",
       "      <td>3843118</td>\n",
       "      <td>False</td>\n",
       "      <td>False</td>\n",
       "      <td>http://www.neowsapp.com/rest/v1/neo/3843118?ap...</td>\n",
       "      <td>(2019 NO1)</td>\n",
       "      <td>http://ssd.jpl.nasa.gov/sbdb.cgi?sstr=3843118</td>\n",
       "      <td>3843118</td>\n",
       "      <td>2019-07-02</td>\n",
       "    </tr>\n",
       "    <tr>\n",
       "      <th>0</th>\n",
       "      <td>30.087</td>\n",
       "      <td>[{'close_approach_date': '2019-07-02', 'close_...</td>\n",
       "      <td>18.733763</td>\n",
       "      <td>8.377994</td>\n",
       "      <td>0.005710</td>\n",
       "      <td>0.002554</td>\n",
       "      <td>5.710051</td>\n",
       "      <td>2.553612</td>\n",
       "      <td>0.003548</td>\n",
       "      <td>0.001587</td>\n",
       "      <td>3843113</td>\n",
       "      <td>False</td>\n",
       "      <td>False</td>\n",
       "      <td>http://www.neowsapp.com/rest/v1/neo/3843113?ap...</td>\n",
       "      <td>(2019 NK1)</td>\n",
       "      <td>http://ssd.jpl.nasa.gov/sbdb.cgi?sstr=3843113</td>\n",
       "      <td>3843113</td>\n",
       "      <td>2019-07-02</td>\n",
       "    </tr>\n",
       "    <tr>\n",
       "      <th>0</th>\n",
       "      <td>22.709</td>\n",
       "      <td>[{'close_approach_date': '2019-07-02', 'close_...</td>\n",
       "      <td>560.047715</td>\n",
       "      <td>250.460952</td>\n",
       "      <td>0.170703</td>\n",
       "      <td>0.076340</td>\n",
       "      <td>170.702538</td>\n",
       "      <td>76.340496</td>\n",
       "      <td>0.106070</td>\n",
       "      <td>0.047436</td>\n",
       "      <td>3843089</td>\n",
       "      <td>False</td>\n",
       "      <td>False</td>\n",
       "      <td>http://www.neowsapp.com/rest/v1/neo/3843089?ap...</td>\n",
       "      <td>(2019 MR3)</td>\n",
       "      <td>http://ssd.jpl.nasa.gov/sbdb.cgi?sstr=3843089</td>\n",
       "      <td>3843089</td>\n",
       "      <td>2019-07-02</td>\n",
       "    </tr>\n",
       "  </tbody>\n",
       "</table>\n",
       "</div>"
      ],
      "text/plain": [
       "   absolute_magnitude_h                                close_approach_data  \\\n",
       "0                26.513  [{'close_approach_date': '2019-07-02', 'close_...   \n",
       "0                25.454  [{'close_approach_date': '2019-07-02', 'close_...   \n",
       "0                21.558  [{'close_approach_date': '2019-07-02', 'close_...   \n",
       "0                30.087  [{'close_approach_date': '2019-07-02', 'close_...   \n",
       "0                22.709  [{'close_approach_date': '2019-07-02', 'close_...   \n",
       "\n",
       "   estimated_diameter.feet.estimated_diameter_max  \\\n",
       "0                                       97.146024   \n",
       "0                                      158.206758   \n",
       "0                                      951.535575   \n",
       "0                                       18.733763   \n",
       "0                                      560.047715   \n",
       "\n",
       "   estimated_diameter.feet.estimated_diameter_min  \\\n",
       "0                                       43.445023   \n",
       "0                                       70.752213   \n",
       "0                                      425.539646   \n",
       "0                                        8.377994   \n",
       "0                                      250.460952   \n",
       "\n",
       "   estimated_diameter.kilometers.estimated_diameter_max  \\\n",
       "0                                           0.029610      \n",
       "0                                           0.048221      \n",
       "0                                           0.290028      \n",
       "0                                           0.005710      \n",
       "0                                           0.170703      \n",
       "\n",
       "   estimated_diameter.kilometers.estimated_diameter_min  \\\n",
       "0                                           0.013242      \n",
       "0                                           0.021565      \n",
       "0                                           0.129704      \n",
       "0                                           0.002554      \n",
       "0                                           0.076340      \n",
       "\n",
       "   estimated_diameter.meters.estimated_diameter_max  \\\n",
       "0                                         29.610107   \n",
       "0                                         48.221418   \n",
       "0                                        290.028034   \n",
       "0                                          5.710051   \n",
       "0                                        170.702538   \n",
       "\n",
       "   estimated_diameter.meters.estimated_diameter_min  \\\n",
       "0                                         13.242042   \n",
       "0                                         21.565274   \n",
       "0                                        129.704480   \n",
       "0                                          2.553612   \n",
       "0                                         76.340496   \n",
       "\n",
       "   estimated_diameter.miles.estimated_diameter_max  \\\n",
       "0                                         0.018399   \n",
       "0                                         0.029963   \n",
       "0                                         0.180215   \n",
       "0                                         0.003548   \n",
       "0                                         0.106070   \n",
       "\n",
       "   estimated_diameter.miles.estimated_diameter_min       id  \\\n",
       "0                                         0.008228  3843141   \n",
       "0                                         0.013400  3843052   \n",
       "0                                         0.080595  3843118   \n",
       "0                                         0.001587  3843113   \n",
       "0                                         0.047436  3843089   \n",
       "\n",
       "   is_potentially_hazardous_asteroid  is_sentry_object  \\\n",
       "0                              False             False   \n",
       "0                              False             False   \n",
       "0                              False             False   \n",
       "0                              False             False   \n",
       "0                              False             False   \n",
       "\n",
       "                                          links.self        name  \\\n",
       "0  http://www.neowsapp.com/rest/v1/neo/3843141?ap...  (2019 NW2)   \n",
       "0  http://www.neowsapp.com/rest/v1/neo/3843052?ap...  (2019 MJ2)   \n",
       "0  http://www.neowsapp.com/rest/v1/neo/3843118?ap...  (2019 NO1)   \n",
       "0  http://www.neowsapp.com/rest/v1/neo/3843113?ap...  (2019 NK1)   \n",
       "0  http://www.neowsapp.com/rest/v1/neo/3843089?ap...  (2019 MR3)   \n",
       "\n",
       "                                    nasa_jpl_url neo_reference_id  event_date  \n",
       "0  http://ssd.jpl.nasa.gov/sbdb.cgi?sstr=3843141          3843141  2019-07-02  \n",
       "0  http://ssd.jpl.nasa.gov/sbdb.cgi?sstr=3843052          3843052  2019-07-02  \n",
       "0  http://ssd.jpl.nasa.gov/sbdb.cgi?sstr=3843118          3843118  2019-07-02  \n",
       "0  http://ssd.jpl.nasa.gov/sbdb.cgi?sstr=3843113          3843113  2019-07-02  \n",
       "0  http://ssd.jpl.nasa.gov/sbdb.cgi?sstr=3843089          3843089  2019-07-02  "
      ]
     },
     "execution_count": 11,
     "metadata": {},
     "output_type": "execute_result"
    }
   ],
   "source": [
    "finaldf.head()"
   ]
  },
  {
   "cell_type": "code",
   "execution_count": 39,
   "metadata": {},
   "outputs": [],
   "source": [
    "finaldf_shape = finaldf.groupby(['event_date']).count().reset_index()"
   ]
  },
  {
   "cell_type": "code",
   "execution_count": 45,
   "metadata": {},
   "outputs": [],
   "source": [
    "event_plot_data = finaldf_shape[['event_date', 'id']].rename(columns={'id': 'event_count'})"
   ]
  },
  {
   "cell_type": "code",
   "execution_count": 46,
   "metadata": {},
   "outputs": [
    {
     "data": {
      "text/plain": [
       "<matplotlib.axes._subplots.AxesSubplot at 0x1fa08311470>"
      ]
     },
     "execution_count": 46,
     "metadata": {},
     "output_type": "execute_result"
    },
    {
     "data": {
      "image/png": "[encoded data removed]",
      "text/plain": [
       "<Figure size 432x288 with 1 Axes>"
      ]
     },
     "metadata": {
      "needs_background": "light"
     },
     "output_type": "display_data"
    }
   ],
   "source": [
    "event_plot_data.plot()"
   ]
  },
  {
   "cell_type": "code",
   "execution_count": null,
   "metadata": {},
   "outputs": [],
   "source": []
  }
 ],
 "metadata": {
  "kernelspec": {
   "display_name": "Python 3",
   "language": "python",
   "name": "python3"
  },
  "language_info": {
   "codemirror_mode": {
    "name": "ipython",
    "version": 3
   },
   "file_extension": ".py",
   "mimetype": "text/x-python",
   "name": "python",
   "nbconvert_exporter": "python",
   "pygments_lexer": "ipython3",
   "version": "3.7.3"
  }
 },
 "nbformat": 4,
 "nbformat_minor": 2
}
